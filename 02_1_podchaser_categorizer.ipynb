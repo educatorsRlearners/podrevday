{
 "cells": [
  {
   "cell_type": "code",
   "execution_count": 1,
   "source": [
    "import pandas as pd\n",
    "\n",
    "from ast import literal_eval"
   ],
   "outputs": [],
   "metadata": {}
  },
  {
   "cell_type": "code",
   "execution_count": 2,
   "source": [
    "df = pd.read_csv('data/easy_podchaser_sept.csv')\n",
    "df.head()"
   ],
   "outputs": [
    {
     "output_type": "execute_result",
     "data": {
      "text/html": [
       "<div>\n",
       "<style scoped>\n",
       "    .dataframe tbody tr th:only-of-type {\n",
       "        vertical-align: middle;\n",
       "    }\n",
       "\n",
       "    .dataframe tbody tr th {\n",
       "        vertical-align: top;\n",
       "    }\n",
       "\n",
       "    .dataframe thead th {\n",
       "        text-align: right;\n",
       "    }\n",
       "</style>\n",
       "<table border=\"1\" class=\"dataframe\">\n",
       "  <thead>\n",
       "    <tr style=\"text-align: right;\">\n",
       "      <th></th>\n",
       "      <th>url_x</th>\n",
       "      <th>date</th>\n",
       "      <th>content</th>\n",
       "      <th>renderedContent</th>\n",
       "      <th>id_x</th>\n",
       "      <th>user</th>\n",
       "      <th>outlinks</th>\n",
       "      <th>tcooutlinks</th>\n",
       "      <th>replyCount</th>\n",
       "      <th>retweetCount</th>\n",
       "      <th>...</th>\n",
       "      <th>url_y</th>\n",
       "      <th>verified</th>\n",
       "      <th>geotext</th>\n",
       "      <th>city</th>\n",
       "      <th>country</th>\n",
       "      <th>name</th>\n",
       "      <th>iso3</th>\n",
       "      <th>outlinks_cleaned</th>\n",
       "      <th>podcast_url</th>\n",
       "      <th>title</th>\n",
       "    </tr>\n",
       "  </thead>\n",
       "  <tbody>\n",
       "    <tr>\n",
       "      <th>0</th>\n",
       "      <td>https://twitter.com/yeoldecrimepod/status/1436...</td>\n",
       "      <td>2021-09-09 19:32:44+00:00</td>\n",
       "      <td>It's #PodRevDay, so do the indie podcasters in...</td>\n",
       "      <td>It's #PodRevDay, so do the indie podcasters in...</td>\n",
       "      <td>1436049954448060425</td>\n",
       "      <td>{'username': 'yeoldecrimepod', 'displayname': ...</td>\n",
       "      <td>['https://www.podchaser.com/podcasts/malice-af...</td>\n",
       "      <td>['https://t.co/zevhkKQBg3']</td>\n",
       "      <td>1</td>\n",
       "      <td>2</td>\n",
       "      <td>...</td>\n",
       "      <td>https://twitter.com/yeoldecrimepod</td>\n",
       "      <td>False</td>\n",
       "      <td>&lt;geotext.geotext.GeoText object at 0x7f784e3ec...</td>\n",
       "      <td>NaN</td>\n",
       "      <td>NaN</td>\n",
       "      <td>NaN</td>\n",
       "      <td>NaN</td>\n",
       "      <td>https://www.podchaser.com/podcasts/malice-afte...</td>\n",
       "      <td>https://www.podchaser.com/podcasts/malice-afte...</td>\n",
       "      <td>Malice After Midnight: A True Crime Podcast</td>\n",
       "    </tr>\n",
       "    <tr>\n",
       "      <th>1</th>\n",
       "      <td>https://twitter.com/yeoldecrimepod/status/1436...</td>\n",
       "      <td>2021-09-09 17:43:01+00:00</td>\n",
       "      <td>It's #PodRevDay! Join me in spreading the love...</td>\n",
       "      <td>It's #PodRevDay! Join me in spreading the love...</td>\n",
       "      <td>1436022344884043779</td>\n",
       "      <td>{'username': 'yeoldecrimepod', 'displayname': ...</td>\n",
       "      <td>['https://www.podchaser.com/podcasts/but-it-wa...</td>\n",
       "      <td>['https://t.co/0FFGyPITG2']</td>\n",
       "      <td>1</td>\n",
       "      <td>1</td>\n",
       "      <td>...</td>\n",
       "      <td>https://twitter.com/yeoldecrimepod</td>\n",
       "      <td>False</td>\n",
       "      <td>&lt;geotext.geotext.GeoText object at 0x7f784e3ec...</td>\n",
       "      <td>NaN</td>\n",
       "      <td>NaN</td>\n",
       "      <td>NaN</td>\n",
       "      <td>NaN</td>\n",
       "      <td>https://www.podchaser.com/podcasts/but-it-was-...</td>\n",
       "      <td>https://www.podchaser.com/podcasts/but-it-was-...</td>\n",
       "      <td>But It Was Aliens</td>\n",
       "    </tr>\n",
       "    <tr>\n",
       "      <th>2</th>\n",
       "      <td>https://twitter.com/yeoldecrimepod/status/1435...</td>\n",
       "      <td>2021-09-09 16:01:28+00:00</td>\n",
       "      <td>It's #PodRevDay! Share some love for your favo...</td>\n",
       "      <td>It's #PodRevDay! Share some love for your favo...</td>\n",
       "      <td>1435996787257577475</td>\n",
       "      <td>{'username': 'yeoldecrimepod', 'displayname': ...</td>\n",
       "      <td>['https://www.podchaser.com/podcasts/the-secre...</td>\n",
       "      <td>['https://t.co/GTaeQZlSlU']</td>\n",
       "      <td>1</td>\n",
       "      <td>2</td>\n",
       "      <td>...</td>\n",
       "      <td>https://twitter.com/yeoldecrimepod</td>\n",
       "      <td>False</td>\n",
       "      <td>&lt;geotext.geotext.GeoText object at 0x7f784e3ec...</td>\n",
       "      <td>NaN</td>\n",
       "      <td>NaN</td>\n",
       "      <td>NaN</td>\n",
       "      <td>NaN</td>\n",
       "      <td>https://www.podchaser.com/podcasts/the-secret-...</td>\n",
       "      <td>https://www.podchaser.com/podcasts/the-secret-...</td>\n",
       "      <td>The Secret Sits</td>\n",
       "    </tr>\n",
       "    <tr>\n",
       "      <th>3</th>\n",
       "      <td>https://twitter.com/ItTakesTwo_pod/status/1435...</td>\n",
       "      <td>2021-09-09 04:22:53+00:00</td>\n",
       "      <td>Exciting! This is the first #PodRevDay I've se...</td>\n",
       "      <td>Exciting! This is the first #PodRevDay I've se...</td>\n",
       "      <td>1435820983806357506</td>\n",
       "      <td>{'username': 'ItTakesTwo_pod', 'displayname': ...</td>\n",
       "      <td>['https://www.podchaser.com/podcasts/it-takes-...</td>\n",
       "      <td>['https://t.co/yUfYGh2fIO', 'https://t.co/5iCk...</td>\n",
       "      <td>2</td>\n",
       "      <td>0</td>\n",
       "      <td>...</td>\n",
       "      <td>https://twitter.com/ItTakesTwo_pod</td>\n",
       "      <td>False</td>\n",
       "      <td>&lt;geotext.geotext.GeoText object at 0x7f784e3ec...</td>\n",
       "      <td>NaN</td>\n",
       "      <td>New Zealand</td>\n",
       "      <td>New Zealand</td>\n",
       "      <td>NZL</td>\n",
       "      <td>https://www.podchaser.com/podcasts/it-takes-tw...</td>\n",
       "      <td>https://www.podchaser.com/podcasts/it-takes-tw...</td>\n",
       "      <td>ERROR</td>\n",
       "    </tr>\n",
       "    <tr>\n",
       "      <th>4</th>\n",
       "      <td>https://twitter.com/OracleofDusk/status/143581...</td>\n",
       "      <td>2021-09-09 04:12:10+00:00</td>\n",
       "      <td>34th (!) #PodRevDay review is for the newest @...</td>\n",
       "      <td>34th (!) #PodRevDay review is for the newest @...</td>\n",
       "      <td>1435818285325508613</td>\n",
       "      <td>{'username': 'OracleofDusk', 'displayname': 'M...</td>\n",
       "      <td>['https://www.podchaser.com/podcasts/whatshern...</td>\n",
       "      <td>['https://t.co/o45ojxkTRX']</td>\n",
       "      <td>1</td>\n",
       "      <td>2</td>\n",
       "      <td>...</td>\n",
       "      <td>https://twitter.com/OracleofDusk</td>\n",
       "      <td>False</td>\n",
       "      <td>&lt;geotext.geotext.GeoText object at 0x7f784e3ec...</td>\n",
       "      <td>NaN</td>\n",
       "      <td>NaN</td>\n",
       "      <td>NaN</td>\n",
       "      <td>NaN</td>\n",
       "      <td>https://www.podchaser.com/podcasts/whatshernam...</td>\n",
       "      <td>https://www.podchaser.com/podcasts/whatshernam...</td>\n",
       "      <td>What'sHerName</td>\n",
       "    </tr>\n",
       "  </tbody>\n",
       "</table>\n",
       "<p>5 rows × 38 columns</p>\n",
       "</div>"
      ],
      "text/plain": [
       "                                               url_x  \\\n",
       "0  https://twitter.com/yeoldecrimepod/status/1436...   \n",
       "1  https://twitter.com/yeoldecrimepod/status/1436...   \n",
       "2  https://twitter.com/yeoldecrimepod/status/1435...   \n",
       "3  https://twitter.com/ItTakesTwo_pod/status/1435...   \n",
       "4  https://twitter.com/OracleofDusk/status/143581...   \n",
       "\n",
       "                        date  \\\n",
       "0  2021-09-09 19:32:44+00:00   \n",
       "1  2021-09-09 17:43:01+00:00   \n",
       "2  2021-09-09 16:01:28+00:00   \n",
       "3  2021-09-09 04:22:53+00:00   \n",
       "4  2021-09-09 04:12:10+00:00   \n",
       "\n",
       "                                             content  \\\n",
       "0  It's #PodRevDay, so do the indie podcasters in...   \n",
       "1  It's #PodRevDay! Join me in spreading the love...   \n",
       "2  It's #PodRevDay! Share some love for your favo...   \n",
       "3  Exciting! This is the first #PodRevDay I've se...   \n",
       "4  34th (!) #PodRevDay review is for the newest @...   \n",
       "\n",
       "                                     renderedContent                 id_x  \\\n",
       "0  It's #PodRevDay, so do the indie podcasters in...  1436049954448060425   \n",
       "1  It's #PodRevDay! Join me in spreading the love...  1436022344884043779   \n",
       "2  It's #PodRevDay! Share some love for your favo...  1435996787257577475   \n",
       "3  Exciting! This is the first #PodRevDay I've se...  1435820983806357506   \n",
       "4  34th (!) #PodRevDay review is for the newest @...  1435818285325508613   \n",
       "\n",
       "                                                user  \\\n",
       "0  {'username': 'yeoldecrimepod', 'displayname': ...   \n",
       "1  {'username': 'yeoldecrimepod', 'displayname': ...   \n",
       "2  {'username': 'yeoldecrimepod', 'displayname': ...   \n",
       "3  {'username': 'ItTakesTwo_pod', 'displayname': ...   \n",
       "4  {'username': 'OracleofDusk', 'displayname': 'M...   \n",
       "\n",
       "                                            outlinks  \\\n",
       "0  ['https://www.podchaser.com/podcasts/malice-af...   \n",
       "1  ['https://www.podchaser.com/podcasts/but-it-wa...   \n",
       "2  ['https://www.podchaser.com/podcasts/the-secre...   \n",
       "3  ['https://www.podchaser.com/podcasts/it-takes-...   \n",
       "4  ['https://www.podchaser.com/podcasts/whatshern...   \n",
       "\n",
       "                                         tcooutlinks  replyCount  \\\n",
       "0                        ['https://t.co/zevhkKQBg3']           1   \n",
       "1                        ['https://t.co/0FFGyPITG2']           1   \n",
       "2                        ['https://t.co/GTaeQZlSlU']           1   \n",
       "3  ['https://t.co/yUfYGh2fIO', 'https://t.co/5iCk...           2   \n",
       "4                        ['https://t.co/o45ojxkTRX']           1   \n",
       "\n",
       "   retweetCount  ...                               url_y  verified  \\\n",
       "0             2  ...  https://twitter.com/yeoldecrimepod     False   \n",
       "1             1  ...  https://twitter.com/yeoldecrimepod     False   \n",
       "2             2  ...  https://twitter.com/yeoldecrimepod     False   \n",
       "3             0  ...  https://twitter.com/ItTakesTwo_pod     False   \n",
       "4             2  ...    https://twitter.com/OracleofDusk     False   \n",
       "\n",
       "                                             geotext city      country  \\\n",
       "0  <geotext.geotext.GeoText object at 0x7f784e3ec...  NaN          NaN   \n",
       "1  <geotext.geotext.GeoText object at 0x7f784e3ec...  NaN          NaN   \n",
       "2  <geotext.geotext.GeoText object at 0x7f784e3ec...  NaN          NaN   \n",
       "3  <geotext.geotext.GeoText object at 0x7f784e3ec...  NaN  New Zealand   \n",
       "4  <geotext.geotext.GeoText object at 0x7f784e3ec...  NaN          NaN   \n",
       "\n",
       "          name iso3                                   outlinks_cleaned  \\\n",
       "0          NaN  NaN  https://www.podchaser.com/podcasts/malice-afte...   \n",
       "1          NaN  NaN  https://www.podchaser.com/podcasts/but-it-was-...   \n",
       "2          NaN  NaN  https://www.podchaser.com/podcasts/the-secret-...   \n",
       "3  New Zealand  NZL  https://www.podchaser.com/podcasts/it-takes-tw...   \n",
       "4          NaN  NaN  https://www.podchaser.com/podcasts/whatshernam...   \n",
       "\n",
       "                                         podcast_url  \\\n",
       "0  https://www.podchaser.com/podcasts/malice-afte...   \n",
       "1  https://www.podchaser.com/podcasts/but-it-was-...   \n",
       "2  https://www.podchaser.com/podcasts/the-secret-...   \n",
       "3  https://www.podchaser.com/podcasts/it-takes-tw...   \n",
       "4  https://www.podchaser.com/podcasts/whatshernam...   \n",
       "\n",
       "                                         title  \n",
       "0  Malice After Midnight: A True Crime Podcast  \n",
       "1                            But It Was Aliens  \n",
       "2                              The Secret Sits  \n",
       "3                                        ERROR  \n",
       "4                                What'sHerName  \n",
       "\n",
       "[5 rows x 38 columns]"
      ]
     },
     "metadata": {},
     "execution_count": 2
    }
   ],
   "metadata": {}
  },
  {
   "cell_type": "code",
   "execution_count": 3,
   "source": [
    "df.shape"
   ],
   "outputs": [
    {
     "output_type": "execute_result",
     "data": {
      "text/plain": [
       "(1222, 38)"
      ]
     },
     "metadata": {},
     "execution_count": 3
    }
   ],
   "metadata": {}
  },
  {
   "cell_type": "code",
   "execution_count": 4,
   "source": [
    "clean = df[df['title']!=\"ERROR\"]"
   ],
   "outputs": [],
   "metadata": {}
  },
  {
   "cell_type": "code",
   "execution_count": 5,
   "source": [
    "clean.shape"
   ],
   "outputs": [
    {
     "output_type": "execute_result",
     "data": {
      "text/plain": [
       "(1137, 38)"
      ]
     },
     "metadata": {},
     "execution_count": 5
    }
   ],
   "metadata": {}
  },
  {
   "cell_type": "code",
   "execution_count": 6,
   "source": [
    "clean.columns"
   ],
   "outputs": [
    {
     "output_type": "execute_result",
     "data": {
      "text/plain": [
       "Index(['url_x', 'date', 'content', 'renderedContent', 'id_x', 'user',\n",
       "       'outlinks', 'tcooutlinks', 'replyCount', 'retweetCount', 'likeCount',\n",
       "       'quoteCount', 'conversationId', 'lang', 'source', 'sourceUrl',\n",
       "       'sourceLabel', 'media', 'retweetedTweet', 'quotedTweet',\n",
       "       'mentionedUsers', 'username', 'id_y', 'displayname', 'location',\n",
       "       'created', 'followersCount', 'friendsCount', 'url_y', 'verified',\n",
       "       'geotext', 'city', 'country', 'name', 'iso3', 'outlinks_cleaned',\n",
       "       'podcast_url', 'title'],\n",
       "      dtype='object')"
      ]
     },
     "metadata": {},
     "execution_count": 6
    }
   ],
   "metadata": {}
  },
  {
   "cell_type": "code",
   "execution_count": 7,
   "source": [
    "keep = ['title','podcast_url', 'categories', 'url_x']"
   ],
   "outputs": [],
   "metadata": {}
  },
  {
   "cell_type": "code",
   "execution_count": 8,
   "source": [
    "first_try = clean.loc[:, keep]"
   ],
   "outputs": [
    {
     "output_type": "error",
     "ename": "KeyError",
     "evalue": "\"Passing list-likes to .loc or [] with any missing labels is no longer supported. The following labels were missing: Index(['categories'], dtype='object'). See https://pandas.pydata.org/pandas-docs/stable/user_guide/indexing.html#deprecate-loc-reindex-listlike\"",
     "traceback": [
      "\u001b[0;31m---------------------------------------------------------------------------\u001b[0m",
      "\u001b[0;31mKeyError\u001b[0m                                  Traceback (most recent call last)",
      "\u001b[0;32m/tmp/ipykernel_6182/2558421310.py\u001b[0m in \u001b[0;36m<module>\u001b[0;34m\u001b[0m\n\u001b[0;32m----> 1\u001b[0;31m \u001b[0mfirst_try\u001b[0m \u001b[0;34m=\u001b[0m \u001b[0mclean\u001b[0m\u001b[0;34m.\u001b[0m\u001b[0mloc\u001b[0m\u001b[0;34m[\u001b[0m\u001b[0;34m:\u001b[0m\u001b[0;34m,\u001b[0m \u001b[0mkeep\u001b[0m\u001b[0;34m]\u001b[0m\u001b[0;34m\u001b[0m\u001b[0;34m\u001b[0m\u001b[0m\n\u001b[0m",
      "\u001b[0;32m~/anaconda3/envs/prd/lib/python3.8/site-packages/pandas/core/indexing.py\u001b[0m in \u001b[0;36m__getitem__\u001b[0;34m(self, key)\u001b[0m\n\u001b[1;32m    871\u001b[0m                     \u001b[0;31m# AttributeError for IntervalTree get_value\u001b[0m\u001b[0;34m\u001b[0m\u001b[0;34m\u001b[0m\u001b[0;34m\u001b[0m\u001b[0m\n\u001b[1;32m    872\u001b[0m                     \u001b[0;32mpass\u001b[0m\u001b[0;34m\u001b[0m\u001b[0;34m\u001b[0m\u001b[0m\n\u001b[0;32m--> 873\u001b[0;31m             \u001b[0;32mreturn\u001b[0m \u001b[0mself\u001b[0m\u001b[0;34m.\u001b[0m\u001b[0m_getitem_tuple\u001b[0m\u001b[0;34m(\u001b[0m\u001b[0mkey\u001b[0m\u001b[0;34m)\u001b[0m\u001b[0;34m\u001b[0m\u001b[0;34m\u001b[0m\u001b[0m\n\u001b[0m\u001b[1;32m    874\u001b[0m         \u001b[0;32melse\u001b[0m\u001b[0;34m:\u001b[0m\u001b[0;34m\u001b[0m\u001b[0;34m\u001b[0m\u001b[0m\n\u001b[1;32m    875\u001b[0m             \u001b[0;31m# we by definition only have the 0th axis\u001b[0m\u001b[0;34m\u001b[0m\u001b[0;34m\u001b[0m\u001b[0;34m\u001b[0m\u001b[0m\n",
      "\u001b[0;32m~/anaconda3/envs/prd/lib/python3.8/site-packages/pandas/core/indexing.py\u001b[0m in \u001b[0;36m_getitem_tuple\u001b[0;34m(self, tup)\u001b[0m\n\u001b[1;32m   1053\u001b[0m             \u001b[0;32mreturn\u001b[0m \u001b[0mself\u001b[0m\u001b[0;34m.\u001b[0m\u001b[0m_multi_take\u001b[0m\u001b[0;34m(\u001b[0m\u001b[0mtup\u001b[0m\u001b[0;34m)\u001b[0m\u001b[0;34m\u001b[0m\u001b[0;34m\u001b[0m\u001b[0m\n\u001b[1;32m   1054\u001b[0m \u001b[0;34m\u001b[0m\u001b[0m\n\u001b[0;32m-> 1055\u001b[0;31m         \u001b[0;32mreturn\u001b[0m \u001b[0mself\u001b[0m\u001b[0;34m.\u001b[0m\u001b[0m_getitem_tuple_same_dim\u001b[0m\u001b[0;34m(\u001b[0m\u001b[0mtup\u001b[0m\u001b[0;34m)\u001b[0m\u001b[0;34m\u001b[0m\u001b[0;34m\u001b[0m\u001b[0m\n\u001b[0m\u001b[1;32m   1056\u001b[0m \u001b[0;34m\u001b[0m\u001b[0m\n\u001b[1;32m   1057\u001b[0m     \u001b[0;32mdef\u001b[0m \u001b[0m_get_label\u001b[0m\u001b[0;34m(\u001b[0m\u001b[0mself\u001b[0m\u001b[0;34m,\u001b[0m \u001b[0mlabel\u001b[0m\u001b[0;34m,\u001b[0m \u001b[0maxis\u001b[0m\u001b[0;34m:\u001b[0m \u001b[0mint\u001b[0m\u001b[0;34m)\u001b[0m\u001b[0;34m:\u001b[0m\u001b[0;34m\u001b[0m\u001b[0;34m\u001b[0m\u001b[0m\n",
      "\u001b[0;32m~/anaconda3/envs/prd/lib/python3.8/site-packages/pandas/core/indexing.py\u001b[0m in \u001b[0;36m_getitem_tuple_same_dim\u001b[0;34m(self, tup)\u001b[0m\n\u001b[1;32m    748\u001b[0m                 \u001b[0;32mcontinue\u001b[0m\u001b[0;34m\u001b[0m\u001b[0;34m\u001b[0m\u001b[0m\n\u001b[1;32m    749\u001b[0m \u001b[0;34m\u001b[0m\u001b[0m\n\u001b[0;32m--> 750\u001b[0;31m             \u001b[0mretval\u001b[0m \u001b[0;34m=\u001b[0m \u001b[0mgetattr\u001b[0m\u001b[0;34m(\u001b[0m\u001b[0mretval\u001b[0m\u001b[0;34m,\u001b[0m \u001b[0mself\u001b[0m\u001b[0;34m.\u001b[0m\u001b[0mname\u001b[0m\u001b[0;34m)\u001b[0m\u001b[0;34m.\u001b[0m\u001b[0m_getitem_axis\u001b[0m\u001b[0;34m(\u001b[0m\u001b[0mkey\u001b[0m\u001b[0;34m,\u001b[0m \u001b[0maxis\u001b[0m\u001b[0;34m=\u001b[0m\u001b[0mi\u001b[0m\u001b[0;34m)\u001b[0m\u001b[0;34m\u001b[0m\u001b[0;34m\u001b[0m\u001b[0m\n\u001b[0m\u001b[1;32m    751\u001b[0m             \u001b[0;31m# We should never have retval.ndim < self.ndim, as that should\u001b[0m\u001b[0;34m\u001b[0m\u001b[0;34m\u001b[0m\u001b[0;34m\u001b[0m\u001b[0m\n\u001b[1;32m    752\u001b[0m             \u001b[0;31m#  be handled by the _getitem_lowerdim call above.\u001b[0m\u001b[0;34m\u001b[0m\u001b[0;34m\u001b[0m\u001b[0;34m\u001b[0m\u001b[0m\n",
      "\u001b[0;32m~/anaconda3/envs/prd/lib/python3.8/site-packages/pandas/core/indexing.py\u001b[0m in \u001b[0;36m_getitem_axis\u001b[0;34m(self, key, axis)\u001b[0m\n\u001b[1;32m   1097\u001b[0m                     \u001b[0;32mraise\u001b[0m \u001b[0mValueError\u001b[0m\u001b[0;34m(\u001b[0m\u001b[0;34m\"Cannot index with multidimensional key\"\u001b[0m\u001b[0;34m)\u001b[0m\u001b[0;34m\u001b[0m\u001b[0;34m\u001b[0m\u001b[0m\n\u001b[1;32m   1098\u001b[0m \u001b[0;34m\u001b[0m\u001b[0m\n\u001b[0;32m-> 1099\u001b[0;31m                 \u001b[0;32mreturn\u001b[0m \u001b[0mself\u001b[0m\u001b[0;34m.\u001b[0m\u001b[0m_getitem_iterable\u001b[0m\u001b[0;34m(\u001b[0m\u001b[0mkey\u001b[0m\u001b[0;34m,\u001b[0m \u001b[0maxis\u001b[0m\u001b[0;34m=\u001b[0m\u001b[0maxis\u001b[0m\u001b[0;34m)\u001b[0m\u001b[0;34m\u001b[0m\u001b[0;34m\u001b[0m\u001b[0m\n\u001b[0m\u001b[1;32m   1100\u001b[0m \u001b[0;34m\u001b[0m\u001b[0m\n\u001b[1;32m   1101\u001b[0m             \u001b[0;31m# nested tuple slicing\u001b[0m\u001b[0;34m\u001b[0m\u001b[0;34m\u001b[0m\u001b[0;34m\u001b[0m\u001b[0m\n",
      "\u001b[0;32m~/anaconda3/envs/prd/lib/python3.8/site-packages/pandas/core/indexing.py\u001b[0m in \u001b[0;36m_getitem_iterable\u001b[0;34m(self, key, axis)\u001b[0m\n\u001b[1;32m   1035\u001b[0m \u001b[0;34m\u001b[0m\u001b[0m\n\u001b[1;32m   1036\u001b[0m         \u001b[0;31m# A collection of keys\u001b[0m\u001b[0;34m\u001b[0m\u001b[0;34m\u001b[0m\u001b[0;34m\u001b[0m\u001b[0m\n\u001b[0;32m-> 1037\u001b[0;31m         \u001b[0mkeyarr\u001b[0m\u001b[0;34m,\u001b[0m \u001b[0mindexer\u001b[0m \u001b[0;34m=\u001b[0m \u001b[0mself\u001b[0m\u001b[0;34m.\u001b[0m\u001b[0m_get_listlike_indexer\u001b[0m\u001b[0;34m(\u001b[0m\u001b[0mkey\u001b[0m\u001b[0;34m,\u001b[0m \u001b[0maxis\u001b[0m\u001b[0;34m,\u001b[0m \u001b[0mraise_missing\u001b[0m\u001b[0;34m=\u001b[0m\u001b[0;32mFalse\u001b[0m\u001b[0;34m)\u001b[0m\u001b[0;34m\u001b[0m\u001b[0;34m\u001b[0m\u001b[0m\n\u001b[0m\u001b[1;32m   1038\u001b[0m         return self.obj._reindex_with_indexers(\n\u001b[1;32m   1039\u001b[0m             \u001b[0;34m{\u001b[0m\u001b[0maxis\u001b[0m\u001b[0;34m:\u001b[0m \u001b[0;34m[\u001b[0m\u001b[0mkeyarr\u001b[0m\u001b[0;34m,\u001b[0m \u001b[0mindexer\u001b[0m\u001b[0;34m]\u001b[0m\u001b[0;34m}\u001b[0m\u001b[0;34m,\u001b[0m \u001b[0mcopy\u001b[0m\u001b[0;34m=\u001b[0m\u001b[0;32mTrue\u001b[0m\u001b[0;34m,\u001b[0m \u001b[0mallow_dups\u001b[0m\u001b[0;34m=\u001b[0m\u001b[0;32mTrue\u001b[0m\u001b[0;34m\u001b[0m\u001b[0;34m\u001b[0m\u001b[0m\n",
      "\u001b[0;32m~/anaconda3/envs/prd/lib/python3.8/site-packages/pandas/core/indexing.py\u001b[0m in \u001b[0;36m_get_listlike_indexer\u001b[0;34m(self, key, axis, raise_missing)\u001b[0m\n\u001b[1;32m   1252\u001b[0m             \u001b[0mkeyarr\u001b[0m\u001b[0;34m,\u001b[0m \u001b[0mindexer\u001b[0m\u001b[0;34m,\u001b[0m \u001b[0mnew_indexer\u001b[0m \u001b[0;34m=\u001b[0m \u001b[0max\u001b[0m\u001b[0;34m.\u001b[0m\u001b[0m_reindex_non_unique\u001b[0m\u001b[0;34m(\u001b[0m\u001b[0mkeyarr\u001b[0m\u001b[0;34m)\u001b[0m\u001b[0;34m\u001b[0m\u001b[0;34m\u001b[0m\u001b[0m\n\u001b[1;32m   1253\u001b[0m \u001b[0;34m\u001b[0m\u001b[0m\n\u001b[0;32m-> 1254\u001b[0;31m         \u001b[0mself\u001b[0m\u001b[0;34m.\u001b[0m\u001b[0m_validate_read_indexer\u001b[0m\u001b[0;34m(\u001b[0m\u001b[0mkeyarr\u001b[0m\u001b[0;34m,\u001b[0m \u001b[0mindexer\u001b[0m\u001b[0;34m,\u001b[0m \u001b[0maxis\u001b[0m\u001b[0;34m,\u001b[0m \u001b[0mraise_missing\u001b[0m\u001b[0;34m=\u001b[0m\u001b[0mraise_missing\u001b[0m\u001b[0;34m)\u001b[0m\u001b[0;34m\u001b[0m\u001b[0;34m\u001b[0m\u001b[0m\n\u001b[0m\u001b[1;32m   1255\u001b[0m         \u001b[0;32mreturn\u001b[0m \u001b[0mkeyarr\u001b[0m\u001b[0;34m,\u001b[0m \u001b[0mindexer\u001b[0m\u001b[0;34m\u001b[0m\u001b[0;34m\u001b[0m\u001b[0m\n\u001b[1;32m   1256\u001b[0m \u001b[0;34m\u001b[0m\u001b[0m\n",
      "\u001b[0;32m~/anaconda3/envs/prd/lib/python3.8/site-packages/pandas/core/indexing.py\u001b[0m in \u001b[0;36m_validate_read_indexer\u001b[0;34m(self, key, indexer, axis, raise_missing)\u001b[0m\n\u001b[1;32m   1313\u001b[0m \u001b[0;34m\u001b[0m\u001b[0m\n\u001b[1;32m   1314\u001b[0m                 \u001b[0;32mwith\u001b[0m \u001b[0moption_context\u001b[0m\u001b[0;34m(\u001b[0m\u001b[0;34m\"display.max_seq_items\"\u001b[0m\u001b[0;34m,\u001b[0m \u001b[0;36m10\u001b[0m\u001b[0;34m,\u001b[0m \u001b[0;34m\"display.width\"\u001b[0m\u001b[0;34m,\u001b[0m \u001b[0;36m80\u001b[0m\u001b[0;34m)\u001b[0m\u001b[0;34m:\u001b[0m\u001b[0;34m\u001b[0m\u001b[0;34m\u001b[0m\u001b[0m\n\u001b[0;32m-> 1315\u001b[0;31m                     raise KeyError(\n\u001b[0m\u001b[1;32m   1316\u001b[0m                         \u001b[0;34m\"Passing list-likes to .loc or [] with any missing labels \"\u001b[0m\u001b[0;34m\u001b[0m\u001b[0;34m\u001b[0m\u001b[0m\n\u001b[1;32m   1317\u001b[0m                         \u001b[0;34m\"is no longer supported. \"\u001b[0m\u001b[0;34m\u001b[0m\u001b[0;34m\u001b[0m\u001b[0m\n",
      "\u001b[0;31mKeyError\u001b[0m: \"Passing list-likes to .loc or [] with any missing labels is no longer supported. The following labels were missing: Index(['categories'], dtype='object'). See https://pandas.pydata.org/pandas-docs/stable/user_guide/indexing.html#deprecate-loc-reindex-listlike\""
     ]
    }
   ],
   "metadata": {}
  },
  {
   "cell_type": "code",
   "execution_count": 9,
   "source": [
    "first_try.info()"
   ],
   "outputs": [
    {
     "output_type": "stream",
     "name": "stdout",
     "text": [
      "<class 'pandas.core.frame.DataFrame'>\n",
      "Int64Index: 1075 entries, 0 to 1154\n",
      "Data columns (total 4 columns):\n",
      " #   Column       Non-Null Count  Dtype \n",
      "---  ------       --------------  ----- \n",
      " 0   title        1075 non-null   object\n",
      " 1   podcast_url  1075 non-null   object\n",
      " 2   categories   1075 non-null   object\n",
      " 3   url_x        1075 non-null   object\n",
      "dtypes: object(4)\n",
      "memory usage: 42.0+ KB\n"
     ]
    }
   ],
   "metadata": {}
  },
  {
   "cell_type": "code",
   "execution_count": 10,
   "source": [
    "first_try['categories'] = first_try['categories'].apply(literal_eval)"
   ],
   "outputs": [],
   "metadata": {}
  },
  {
   "cell_type": "code",
   "execution_count": 11,
   "source": [
    "podchaser_categories = first_try.explode('categories')"
   ],
   "outputs": [],
   "metadata": {}
  },
  {
   "cell_type": "code",
   "execution_count": 15,
   "source": [
    "print(podchaser_categories['categories'].nunique())\n",
    "print(podchaser_categories['categories'].unique())"
   ],
   "outputs": [
    {
     "output_type": "stream",
     "name": "stdout",
     "text": [
      "135\n",
      "['Science' 'Spooky' 'Comedy' 'History' 'Natural Sciences' 'Plant'\n",
      " 'Audio Drama' 'Arts' 'Nature' nan 'Society' 'Culture' 'Fiction'\n",
      " 'Science Fiction' 'Performing Arts' 'Actual Play' 'Hobbies' 'Education'\n",
      " 'True Crime' 'Fantasy' 'Mythology' 'TV' 'Film' 'Games' 'Horror'\n",
      " 'Audio fiction' 'Personal Journals' 'Podcasting' 'Other Games' 'Drama'\n",
      " 'Medicine' 'Music' 'Film Reviews' 'Video Games' 'Gaming' 'Nerd Culture'\n",
      " 'Religion' 'Spirituality' 'Christianity' 'White-Collar Crime' 'LGBT'\n",
      " 'Technology' 'Birds' 'Mental Health' 'Sexuality' 'Relationships' 'Health'\n",
      " 'Books' 'Dungeons & Dragons' 'noir' 'TV & Film' 'Business' 'Entrepreneur'\n",
      " 'Travel' 'Sports' 'Running' 'Management' 'News' 'Comics' 'mystery'\n",
      " 'supernatural thriller' 'Design' 'Storytelling' 'Superhero' 'Visual Arts'\n",
      " 'Musical Theater' 'Language' 'Poetry' 'Marketing' 'Business News'\n",
      " 'Opinion' 'Comic Book Adaptations' 'Self-Help' 'Careers' 'Fitness' 'Kids'\n",
      " 'Family' 'Humor' 'Lifestyle' 'Fashion & Beauty' 'Gaming News' 'Food'\n",
      " 'Linguistics' 'Star Wars' 'parody' 'Politics' 'Role Play' 'Recreation'\n",
      " 'Celebrity' 'Folklore' 'Women’s Studies' 'Animation' 'Manga'\n",
      " 'Social Sciences' 'Government' 'Social Justice' 'Philosophy' 'Beer'\n",
      " 'Paranormal' 'Canadian' 'Literature' 'Tech News' 'Marvel' 'DC Comics'\n",
      " 'Musical' 'Tabletop RPG' 'Theatre' 'Anthology' 'Professional'\n",
      " 'Society & Culture' 'Nutrition' 'YouTube' 'Soccer' 'Places & Travel'\n",
      " 'Improvisation' 'Organizations' 'Non-Profit' 'Talk Radio' 'DJ Mixes'\n",
      " 'Entertainment' 'Drinks' 'Conspiracy' 'Personal Development' 'Sleep'\n",
      " 'Geek Culture' 'Pop Culture' 'Current Events' 'Arts & Entertainment'\n",
      " 'Golf' 'Wrestling' 'Investing' 'Personal Finance' 'Steampunk' 'NBA'\n",
      " 'Basketball' 'Doctor Who']\n"
     ]
    }
   ],
   "metadata": {}
  },
  {
   "cell_type": "code",
   "execution_count": 13,
   "source": [
    "# pd.set_option('display.max_columns', None)\n",
    "# pd.set_option('display.expand_frame_repr', False)\n",
    "pd.set_option('max_colwidth', None)\n",
    "\n",
    "podchaser_categories[podchaser_categories['categories'].isna()][~]"
   ],
   "outputs": [
    {
     "output_type": "execute_result",
     "data": {
      "text/html": [
       "<div>\n",
       "<style scoped>\n",
       "    .dataframe tbody tr th:only-of-type {\n",
       "        vertical-align: middle;\n",
       "    }\n",
       "\n",
       "    .dataframe tbody tr th {\n",
       "        vertical-align: top;\n",
       "    }\n",
       "\n",
       "    .dataframe thead th {\n",
       "        text-align: right;\n",
       "    }\n",
       "</style>\n",
       "<table border=\"1\" class=\"dataframe\">\n",
       "  <thead>\n",
       "    <tr style=\"text-align: right;\">\n",
       "      <th></th>\n",
       "      <th>title</th>\n",
       "      <th>podcast_url</th>\n",
       "      <th>categories</th>\n",
       "      <th>url_x</th>\n",
       "    </tr>\n",
       "  </thead>\n",
       "  <tbody>\n",
       "    <tr>\n",
       "      <th>7</th>\n",
       "      <td>Someone Dies In This Elevator</td>\n",
       "      <td>https://www.podchaser.com/podcasts/someone-dies-in-this-elevator-1665079</td>\n",
       "      <td>NaN</td>\n",
       "      <td>https://twitter.com/OracleofDusk/status/1424578049262112769</td>\n",
       "    </tr>\n",
       "    <tr>\n",
       "      <th>21</th>\n",
       "      <td>About What You Say</td>\n",
       "      <td>https://www.podchaser.com/podcasts/about-what-you-say-1773153</td>\n",
       "      <td>NaN</td>\n",
       "      <td>https://twitter.com/StoriesSandman/status/1424519515115692037</td>\n",
       "    </tr>\n",
       "    <tr>\n",
       "      <th>24</th>\n",
       "      <td>The Weird</td>\n",
       "      <td>https://www.podchaser.com/podcasts/the-weird-1808762</td>\n",
       "      <td>NaN</td>\n",
       "      <td>https://twitter.com/NightPostPod/status/1424477812728205316</td>\n",
       "    </tr>\n",
       "    <tr>\n",
       "      <th>32</th>\n",
       "      <td>Patient 33</td>\n",
       "      <td>https://www.podchaser.com/podcasts/patient-33-1958997</td>\n",
       "      <td>NaN</td>\n",
       "      <td>https://twitter.com/NightPostPod/status/1424446537338339335</td>\n",
       "    </tr>\n",
       "    <tr>\n",
       "      <th>34</th>\n",
       "      <td>Monster Fuzz</td>\n",
       "      <td>https://www.podchaser.com/podcasts/monster-fuzz-1182511</td>\n",
       "      <td>NaN</td>\n",
       "      <td>https://twitter.com/indiedropin/status/1424440889934598150</td>\n",
       "    </tr>\n",
       "    <tr>\n",
       "      <th>...</th>\n",
       "      <td>...</td>\n",
       "      <td>...</td>\n",
       "      <td>...</td>\n",
       "      <td>...</td>\n",
       "    </tr>\n",
       "    <tr>\n",
       "      <th>946</th>\n",
       "      <td>Pass The Mic</td>\n",
       "      <td>https://www.podchaser.com/podcasts/pass-the-mic-723834</td>\n",
       "      <td>NaN</td>\n",
       "      <td>https://twitter.com/musciguy/status/1270082739413282817</td>\n",
       "    </tr>\n",
       "    <tr>\n",
       "      <th>948</th>\n",
       "      <td>YOSTiXX Podcast</td>\n",
       "      <td>https://www.podchaser.com/podcasts/yostixx-podcast-1254158</td>\n",
       "      <td>NaN</td>\n",
       "      <td>https://twitter.com/smalltalks17/status/1270081138384568321</td>\n",
       "    </tr>\n",
       "    <tr>\n",
       "      <th>955</th>\n",
       "      <td>Art of Story</td>\n",
       "      <td>https://www.podchaser.com/podcasts/art-of-story-1193839</td>\n",
       "      <td>NaN</td>\n",
       "      <td>https://twitter.com/StuartJTanner/status/1270068520303427586</td>\n",
       "    </tr>\n",
       "    <tr>\n",
       "      <th>1007</th>\n",
       "      <td>We Have Cool Friends - A Kinda Funny Interview Show</td>\n",
       "      <td>https://www.podchaser.com/podcasts/we-have-cool-friends-867485</td>\n",
       "      <td>NaN</td>\n",
       "      <td>https://twitter.com/PersuadePod/status/1248015897702232064</td>\n",
       "    </tr>\n",
       "    <tr>\n",
       "      <th>1039</th>\n",
       "      <td>Pass The Mic</td>\n",
       "      <td>https://www.podchaser.com/podcasts/pass-the-mic-723834</td>\n",
       "      <td>NaN</td>\n",
       "      <td>https://twitter.com/musciguy/status/1237200527890366464</td>\n",
       "    </tr>\n",
       "  </tbody>\n",
       "</table>\n",
       "<p>94 rows × 4 columns</p>\n",
       "</div>"
      ],
      "text/plain": [
       "                                                    title  \\\n",
       "7                           Someone Dies In This Elevator   \n",
       "21                                     About What You Say   \n",
       "24                                              The Weird   \n",
       "32                                             Patient 33   \n",
       "34                                           Monster Fuzz   \n",
       "...                                                   ...   \n",
       "946                                          Pass The Mic   \n",
       "948                                       YOSTiXX Podcast   \n",
       "955                                          Art of Story   \n",
       "1007  We Have Cool Friends - A Kinda Funny Interview Show   \n",
       "1039                                         Pass The Mic   \n",
       "\n",
       "                                                                   podcast_url  \\\n",
       "7     https://www.podchaser.com/podcasts/someone-dies-in-this-elevator-1665079   \n",
       "21               https://www.podchaser.com/podcasts/about-what-you-say-1773153   \n",
       "24                        https://www.podchaser.com/podcasts/the-weird-1808762   \n",
       "32                       https://www.podchaser.com/podcasts/patient-33-1958997   \n",
       "34                     https://www.podchaser.com/podcasts/monster-fuzz-1182511   \n",
       "...                                                                        ...   \n",
       "946                     https://www.podchaser.com/podcasts/pass-the-mic-723834   \n",
       "948                 https://www.podchaser.com/podcasts/yostixx-podcast-1254158   \n",
       "955                    https://www.podchaser.com/podcasts/art-of-story-1193839   \n",
       "1007            https://www.podchaser.com/podcasts/we-have-cool-friends-867485   \n",
       "1039                    https://www.podchaser.com/podcasts/pass-the-mic-723834   \n",
       "\n",
       "     categories                                                          url_x  \n",
       "7           NaN    https://twitter.com/OracleofDusk/status/1424578049262112769  \n",
       "21          NaN  https://twitter.com/StoriesSandman/status/1424519515115692037  \n",
       "24          NaN    https://twitter.com/NightPostPod/status/1424477812728205316  \n",
       "32          NaN    https://twitter.com/NightPostPod/status/1424446537338339335  \n",
       "34          NaN     https://twitter.com/indiedropin/status/1424440889934598150  \n",
       "...         ...                                                            ...  \n",
       "946         NaN        https://twitter.com/musciguy/status/1270082739413282817  \n",
       "948         NaN    https://twitter.com/smalltalks17/status/1270081138384568321  \n",
       "955         NaN   https://twitter.com/StuartJTanner/status/1270068520303427586  \n",
       "1007        NaN     https://twitter.com/PersuadePod/status/1248015897702232064  \n",
       "1039        NaN        https://twitter.com/musciguy/status/1237200527890366464  \n",
       "\n",
       "[94 rows x 4 columns]"
      ]
     },
     "metadata": {},
     "execution_count": 13
    }
   ],
   "metadata": {}
  },
  {
   "cell_type": "code",
   "execution_count": 20,
   "source": [
    "podchaser_categories.title.nunique()"
   ],
   "outputs": [
    {
     "output_type": "execute_result",
     "data": {
      "text/plain": [
       "740"
      ]
     },
     "metadata": {},
     "execution_count": 20
    }
   ],
   "metadata": {}
  },
  {
   "cell_type": "code",
   "execution_count": 21,
   "source": [
    "podchaser_categories.shape"
   ],
   "outputs": [
    {
     "output_type": "execute_result",
     "data": {
      "text/plain": [
       "(2591, 4)"
      ]
     },
     "metadata": {},
     "execution_count": 21
    }
   ],
   "metadata": {}
  },
  {
   "cell_type": "code",
   "execution_count": 24,
   "source": [
    "clean = podchaser_categories[~podchaser_categories['categories'].isna()]\n",
    "clean.title.nunique()"
   ],
   "outputs": [
    {
     "output_type": "execute_result",
     "data": {
      "text/plain": [
       "667"
      ]
     },
     "metadata": {},
     "execution_count": 24
    }
   ],
   "metadata": {}
  },
  {
   "cell_type": "code",
   "execution_count": 25,
   "source": [
    "clean.to_csv('data/podcasts_categories_08_2021.csv', index=False)"
   ],
   "outputs": [],
   "metadata": {}
  },
  {
   "cell_type": "code",
   "execution_count": null,
   "source": [],
   "outputs": [],
   "metadata": {}
  }
 ],
 "metadata": {
  "orig_nbformat": 4,
  "language_info": {
   "name": "python",
   "version": "3.8.5",
   "mimetype": "text/x-python",
   "codemirror_mode": {
    "name": "ipython",
    "version": 3
   },
   "pygments_lexer": "ipython3",
   "nbconvert_exporter": "python",
   "file_extension": ".py"
  },
  "kernelspec": {
   "name": "python3",
   "display_name": "Python 3.8.5 64-bit ('prd': conda)"
  },
  "interpreter": {
   "hash": "c4b937d4cc1fc90414999310cceb4ff820049ab80154ad6dd56c19cf440ea1ce"
  }
 },
 "nbformat": 4,
 "nbformat_minor": 2
}